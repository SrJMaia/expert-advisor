{
 "cells": [
  {
   "cell_type": "code",
   "execution_count": 30,
   "source": [
    "import math\n",
    "import numpy as np\n",
    "import pandas as pd\n",
    "import requests\n",
    "from bs4 import BeautifulSoup"
   ],
   "outputs": [],
   "metadata": {}
  },
  {
   "cell_type": "code",
   "execution_count": 31,
   "source": [
    "initial_capital = 1200"
   ],
   "outputs": [],
   "metadata": {}
  },
  {
   "cell_type": "code",
   "execution_count": 32,
   "source": [
    "def get_price_coinmarketcap(coin_name):\n",
    "    url = f\"https://coinmarketcap.com/currencies/{coin_name}/\"\n",
    "    html = requests.get(url)\n",
    "    html.encoding = \"UTF-8\"\n",
    "    soup = BeautifulSoup(html.content)\n",
    "    price = float(soup.find_all(\"div\", {\"class\":\"priceValue___11gHJ\"})[0].text.replace(\",\", \"\").replace(\"$\",\"\"))\n",
    "    if price == 0.:\n",
    "        print(f\"Price of {coin_name} is 0.\")\n",
    "        return 0\n",
    "    return price"
   ],
   "outputs": [],
   "metadata": {}
  },
  {
   "cell_type": "code",
   "execution_count": 109,
   "source": [
    "wallet_dt = pd.DataFrame()\n",
    "# -------------------------------------------------------------------------------------\n",
    "wallet_dt.loc[\"btc\", \"Invested €\"] = 150\n",
    "wallet_dt.loc[\"link\", \"Invested €\"] = 100\n",
    "wallet_dt.loc[\"ada\", \"Invested €\"] = 150\n",
    "wallet_dt.loc[\"eth\", \"Invested €\"] = 150\n",
    "wallet_dt.loc[\"nexo\", \"Invested €\"] = 100\n",
    "wallet_dt.loc[\"dot\", \"Invested €\"] = 100\n",
    "wallet_dt.loc[\"alpaca\", \"Invested €\"] = 150\n",
    "wallet_dt.loc[\"cake\", \"Invested €\"] = 116\n",
    "wallet_dt.loc[\"waultx\", \"Invested €\"] = 67\n",
    "wallet_dt.loc[\"wex\", \"Invested €\"] = 50\n",
    "wallet_dt.loc[\"-\", \"Invested €\"] = \"-\"\n",
    "wallet_dt.loc[\"Resume\", \"Invested €\"] = \"Invested Sum\"\n",
    "# -------------------------------------------------------------------------------------\n",
    "wallet_dt.loc[\"btc\", \"Ammount\"] = 0.003777\n",
    "wallet_dt.loc[\"link\", \"Ammount\"] = 4.816179\n",
    "wallet_dt.loc[\"ada\", \"Ammount\"] = 120.515528\n",
    "wallet_dt.loc[\"eth\", \"Ammount\"] = 0.06563418\n",
    "wallet_dt.loc[\"nexo\", \"Ammount\"] = 69.17528735\n",
    "wallet_dt.loc[\"dot\", \"Ammount\"] = 5.58108144\n",
    "wallet_dt.loc[\"alpaca\", \"Ammount\"] = 184.58\n",
    "wallet_dt.loc[\"cake\", \"Ammount\"] = 6.88816\n",
    "wallet_dt.loc[\"waultx\", \"Ammount\"] = 6051.66\n",
    "wallet_dt.loc[\"wex\", \"Ammount\"] = 8032.43\n",
    "wallet_dt.loc[\"-\", \"Ammount\"] = \"-\"\n",
    "wallet_dt.loc[\"Resume\", \"Ammount\"] = \"Invested Total\"\n",
    "# -------------------------------------------------------------------------------------\n",
    "wallet_dt.loc[\"btc\", \"Price Coin\"] = get_price_coinmarketcap(\"bitcoin\")\n",
    "wallet_dt.loc[\"link\", \"Price Coin\"] = get_price_coinmarketcap(\"chainlink\")\n",
    "wallet_dt.loc[\"ada\", \"Price Coin\"] = get_price_coinmarketcap(\"cardano\")\n",
    "wallet_dt.loc[\"eth\", \"Price Coin\"] = get_price_coinmarketcap(\"ethereum\")\n",
    "wallet_dt.loc[\"nexo\", \"Price Coin\"] = get_price_coinmarketcap(\"nexo\")\n",
    "wallet_dt.loc[\"dot\", \"Price Coin\"] = get_price_coinmarketcap(\"polkadot-new\")\n",
    "wallet_dt.loc[\"alpaca\", \"Price Coin\"] = get_price_coinmarketcap(\"alpaca-finance\")\n",
    "wallet_dt.loc[\"cake\", \"Price Coin\"] = get_price_coinmarketcap(\"pancakeswap\")\n",
    "wallet_dt.loc[\"waultx\", \"Price Coin\"] = get_price_coinmarketcap(\"wault-finance-new\")\n",
    "wallet_dt.loc[\"wex\", \"Price Coin\"] = get_price_coinmarketcap(\"waultswap\")\n",
    "wallet_dt.loc[\"-\", \"Price Coin\"] = \"-\"\n",
    "wallet_dt.loc[\"Resume\", \"Price Coin\"] = \"Final Capital\"\n",
    "# -------------------------------------------------------------------------------------\n",
    "wallet_dt.loc[:, \"Holding Values $\"] = wallet_dt.iloc[:-2,1] * wallet_dt.iloc[:-2,2]\n",
    "wallet_dt.loc[\"-\", \"Holding Values $\"] = \"-\"\n",
    "wallet_dt.loc[\"Resume\", \"Holding Values $\"] = \"Growth €\"\n",
    "eur_price = get_price_coinmarketcap(\"stasis-euro\")\n",
    "wallet_dt.loc[:, \"Holding Values €\"] = wallet_dt.iloc[:-2,3] * (1/eur_price)\n",
    "wallet_dt.loc[\"-\", \"Holding Values €\"] = \"-\"\n",
    "wallet_dt.loc[\"Resume\", \"Holding Values €\"] = \"Growth %\"\n",
    "# -------------------------------------------------------------------------------------\n",
    "wallet_dt.loc[\"=\", \"Invested €\"] = wallet_dt.iloc[:-2,0].sum()\n",
    "wallet_dt.loc[\"=\", \"Ammount\"] = initial_capital\n",
    "wallet_dt.loc[\"=\", \"Price Coin\"] = wallet_dt.iloc[:-3,4].sum()\n",
    "wallet_dt.loc[\"=\", \"Holding Values $\"] = wallet_dt.iloc[-1,2] - wallet_dt.iloc[-1,1]\n",
    "wallet_dt.loc[\"=\", \"Holding Values €\"] = (wallet_dt.iloc[-1,2] / wallet_dt.iloc[-1,1] -1) * 100"
   ],
   "outputs": [],
   "metadata": {}
  },
  {
   "cell_type": "code",
   "execution_count": 110,
   "source": [
    "wallet_dt"
   ],
   "outputs": [
    {
     "output_type": "execute_result",
     "data": {
      "text/plain": [
       "          Invested €         Ammount     Price Coin Holding Values $  \\\n",
       "btc            150.0        0.003777       47684.45       180.104168   \n",
       "link           100.0        4.816179          27.71        133.45632   \n",
       "ada            150.0      120.515528           2.12       255.492919   \n",
       "eth            150.0        0.065634        3317.77       217.759113   \n",
       "nexo           100.0       69.175287           2.02        139.73408   \n",
       "dot            100.0        5.581081           22.6       126.132441   \n",
       "alpaca         150.0          184.58            1.1          203.038   \n",
       "cake           116.0         6.88816          20.97       144.444715   \n",
       "waultx          67.0         6051.66        0.01487        89.988184   \n",
       "wex             50.0         8032.43       0.008213        65.970348   \n",
       "-                  -               -              -                -   \n",
       "Resume  Invested Sum  Invested Total  Final Capital         Growth €   \n",
       "=             1133.0            1200    1318.746007       118.746007   \n",
       "\n",
       "       Holding Values €  \n",
       "btc          152.630651  \n",
       "link         113.098576  \n",
       "ada          216.519423  \n",
       "eth          184.541622  \n",
       "nexo         118.418712  \n",
       "dot          106.891899  \n",
       "alpaca       172.066102  \n",
       "cake         122.410776  \n",
       "waultx        76.261173  \n",
       "wex           55.907074  \n",
       "-                     -  \n",
       "Resume         Growth %  \n",
       "=              9.895501  "
      ],
      "text/html": [
       "<div>\n",
       "<style scoped>\n",
       "    .dataframe tbody tr th:only-of-type {\n",
       "        vertical-align: middle;\n",
       "    }\n",
       "\n",
       "    .dataframe tbody tr th {\n",
       "        vertical-align: top;\n",
       "    }\n",
       "\n",
       "    .dataframe thead th {\n",
       "        text-align: right;\n",
       "    }\n",
       "</style>\n",
       "<table border=\"1\" class=\"dataframe\">\n",
       "  <thead>\n",
       "    <tr style=\"text-align: right;\">\n",
       "      <th></th>\n",
       "      <th>Invested €</th>\n",
       "      <th>Ammount</th>\n",
       "      <th>Price Coin</th>\n",
       "      <th>Holding Values $</th>\n",
       "      <th>Holding Values €</th>\n",
       "    </tr>\n",
       "  </thead>\n",
       "  <tbody>\n",
       "    <tr>\n",
       "      <th>btc</th>\n",
       "      <td>150.0</td>\n",
       "      <td>0.003777</td>\n",
       "      <td>47684.45</td>\n",
       "      <td>180.104168</td>\n",
       "      <td>152.630651</td>\n",
       "    </tr>\n",
       "    <tr>\n",
       "      <th>link</th>\n",
       "      <td>100.0</td>\n",
       "      <td>4.816179</td>\n",
       "      <td>27.71</td>\n",
       "      <td>133.45632</td>\n",
       "      <td>113.098576</td>\n",
       "    </tr>\n",
       "    <tr>\n",
       "      <th>ada</th>\n",
       "      <td>150.0</td>\n",
       "      <td>120.515528</td>\n",
       "      <td>2.12</td>\n",
       "      <td>255.492919</td>\n",
       "      <td>216.519423</td>\n",
       "    </tr>\n",
       "    <tr>\n",
       "      <th>eth</th>\n",
       "      <td>150.0</td>\n",
       "      <td>0.065634</td>\n",
       "      <td>3317.77</td>\n",
       "      <td>217.759113</td>\n",
       "      <td>184.541622</td>\n",
       "    </tr>\n",
       "    <tr>\n",
       "      <th>nexo</th>\n",
       "      <td>100.0</td>\n",
       "      <td>69.175287</td>\n",
       "      <td>2.02</td>\n",
       "      <td>139.73408</td>\n",
       "      <td>118.418712</td>\n",
       "    </tr>\n",
       "    <tr>\n",
       "      <th>dot</th>\n",
       "      <td>100.0</td>\n",
       "      <td>5.581081</td>\n",
       "      <td>22.6</td>\n",
       "      <td>126.132441</td>\n",
       "      <td>106.891899</td>\n",
       "    </tr>\n",
       "    <tr>\n",
       "      <th>alpaca</th>\n",
       "      <td>150.0</td>\n",
       "      <td>184.58</td>\n",
       "      <td>1.1</td>\n",
       "      <td>203.038</td>\n",
       "      <td>172.066102</td>\n",
       "    </tr>\n",
       "    <tr>\n",
       "      <th>cake</th>\n",
       "      <td>116.0</td>\n",
       "      <td>6.88816</td>\n",
       "      <td>20.97</td>\n",
       "      <td>144.444715</td>\n",
       "      <td>122.410776</td>\n",
       "    </tr>\n",
       "    <tr>\n",
       "      <th>waultx</th>\n",
       "      <td>67.0</td>\n",
       "      <td>6051.66</td>\n",
       "      <td>0.01487</td>\n",
       "      <td>89.988184</td>\n",
       "      <td>76.261173</td>\n",
       "    </tr>\n",
       "    <tr>\n",
       "      <th>wex</th>\n",
       "      <td>50.0</td>\n",
       "      <td>8032.43</td>\n",
       "      <td>0.008213</td>\n",
       "      <td>65.970348</td>\n",
       "      <td>55.907074</td>\n",
       "    </tr>\n",
       "    <tr>\n",
       "      <th>-</th>\n",
       "      <td>-</td>\n",
       "      <td>-</td>\n",
       "      <td>-</td>\n",
       "      <td>-</td>\n",
       "      <td>-</td>\n",
       "    </tr>\n",
       "    <tr>\n",
       "      <th>Resume</th>\n",
       "      <td>Invested Sum</td>\n",
       "      <td>Invested Total</td>\n",
       "      <td>Final Capital</td>\n",
       "      <td>Growth €</td>\n",
       "      <td>Growth %</td>\n",
       "    </tr>\n",
       "    <tr>\n",
       "      <th>=</th>\n",
       "      <td>1133.0</td>\n",
       "      <td>1200</td>\n",
       "      <td>1318.746007</td>\n",
       "      <td>118.746007</td>\n",
       "      <td>9.895501</td>\n",
       "    </tr>\n",
       "  </tbody>\n",
       "</table>\n",
       "</div>"
      ]
     },
     "metadata": {},
     "execution_count": 110
    }
   ],
   "metadata": {}
  },
  {
   "cell_type": "code",
   "execution_count": 108,
   "source": [],
   "outputs": [
    {
     "output_type": "execute_result",
     "data": {
      "text/plain": [
       "9.895500597429386"
      ]
     },
     "metadata": {},
     "execution_count": 108
    }
   ],
   "metadata": {}
  },
  {
   "cell_type": "code",
   "execution_count": 123,
   "source": [
    "final_capital = wallet_dt.loc[:,\"Holding Values €\"].sum()\n",
    "print(f\"Initial Capital: {initial_capital}€ | Final Capital: {final_capital:.6}€ | Growth {(final_capital-initial_capital) / initial_capital * 100:.2}%\")"
   ],
   "outputs": [
    {
     "output_type": "stream",
     "name": "stdout",
     "text": [
      "Initial Capital: 1200€ | Final Capital: 1190.24€ | Growth -0.81%\n"
     ]
    }
   ],
   "metadata": {}
  },
  {
   "cell_type": "code",
   "execution_count": 35,
   "source": [
    "184 * 0.84"
   ],
   "outputs": [
    {
     "output_type": "execute_result",
     "data": {
      "text/plain": [
       "154.56"
      ]
     },
     "metadata": {},
     "execution_count": 35
    }
   ],
   "metadata": {}
  },
  {
   "cell_type": "code",
   "execution_count": null,
   "source": [],
   "outputs": [],
   "metadata": {}
  },
  {
   "cell_type": "code",
   "execution_count": null,
   "source": [],
   "outputs": [],
   "metadata": {}
  }
 ],
 "metadata": {
  "orig_nbformat": 4,
  "language_info": {
   "name": "python",
   "version": "3.8.10",
   "mimetype": "text/x-python",
   "codemirror_mode": {
    "name": "ipython",
    "version": 3
   },
   "pygments_lexer": "ipython3",
   "nbconvert_exporter": "python",
   "file_extension": ".py"
  },
  "kernelspec": {
   "name": "python3",
   "display_name": "Python 3.8.10 64-bit"
  },
  "interpreter": {
   "hash": "916dbcbb3f70747c44a77c7bcd40155683ae19c65e1c03b4aa3499c5328201f1"
  }
 },
 "nbformat": 4,
 "nbformat_minor": 2
}